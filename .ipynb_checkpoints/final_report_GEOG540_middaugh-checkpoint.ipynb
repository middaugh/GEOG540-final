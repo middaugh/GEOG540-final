{
 "cells": [
  {
   "cell_type": "markdown",
   "metadata": {},
   "source": [
    "# Opioid Addicitions and Prescriptions\n",
    "### The Adverse Affects of Reformulation in the U.S. and Indiana\n",
    "\n",
    "Esmé Middaugh\n",
    "GEOG 540 \n",
    "Final Project\n",
    "2019APRIL 09"
   ]
  },
  {
   "cell_type": "markdown",
   "metadata": {},
   "source": [
    "## Introduction"
   ]
  },
  {
   "cell_type": "markdown",
   "metadata": {},
   "source": [
    "Reports about the impacts of Oxycontin on the US are nearly ubiquitous in today's news. Amongst the general acknowledgement about the severeness of the opioid epidemic and the urgency of finding a solution, however it is sometimes difficult to dig down into the problem at a deeper level. \n",
    "\n",
    "The project I am currently serving on 'Opioid Addictions and the Labor Market: Training and Hiring during and Epidemic' aims to do exactly this. Looking at data from  (INSERT HERE) the project will (INSERT QUOTE HERE). \n",
    "\n",
    "For this project I wanted to dig deeper into the prescription and mortality data, since this forms the basis of our measurement of the severeness of the opioid epidmeic. I started working on this project at the end of January so had some familiarity with the datasets already, but this project allowed me to explore the data much more thoroughly. My three steps are:\n",
    "1) Cleaning and Merging the Data.\n",
    "2)\n",
    "3)\n"
   ]
  },
  {
   "cell_type": "markdown",
   "metadata": {},
   "source": [
    "## Methods"
   ]
  },
  {
   "cell_type": "markdown",
   "metadata": {},
   "source": [
    "Used HERE number o fmethods, including:\n",
    "pandas\n",
    "    pd.applymap\n",
    "    \n",
    "lambda functions\n",
    "regular functions\n",
    "\n",
    "Exploratory Data Analysis & Graphing\n",
    "matplotlib.pyplot\n",
    ".boxplot\n",
    "scatter plots\n",
    "line plots\n",
    "plotly\n",
    "\n",
    "Statistical Analysis\n",
    "k means for clustering analysis"
   ]
  },
  {
   "cell_type": "markdown",
   "metadata": {},
   "source": [
    "## Results "
   ]
  },
  {
   "cell_type": "code",
   "execution_count": null,
   "metadata": {
    "collapsed": true
   },
   "outputs": [],
   "source": []
  },
  {
   "cell_type": "markdown",
   "metadata": {},
   "source": [
    "## Summary and Discussion"
   ]
  },
  {
   "cell_type": "code",
   "execution_count": null,
   "metadata": {
    "collapsed": true
   },
   "outputs": [],
   "source": []
  }
 ],
 "metadata": {
  "kernelspec": {
   "display_name": "Python 3",
   "language": "python",
   "name": "python3"
  },
  "language_info": {
   "codemirror_mode": {
    "name": "ipython",
    "version": 3
   },
   "file_extension": ".py",
   "mimetype": "text/x-python",
   "name": "python",
   "nbconvert_exporter": "python",
   "pygments_lexer": "ipython3",
   "version": "3.6.3"
  }
 },
 "nbformat": 4,
 "nbformat_minor": 2
}
