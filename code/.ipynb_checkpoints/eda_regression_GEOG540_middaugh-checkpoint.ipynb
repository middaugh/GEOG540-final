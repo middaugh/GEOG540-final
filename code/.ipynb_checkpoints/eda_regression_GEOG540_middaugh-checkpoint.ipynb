{
 "cells": [
  {
   "cell_type": "markdown",
   "metadata": {},
   "source": [
    "## Exploratory Data Analysis\n",
    "Now that the data is clean, it is helpful to do some exploratory data analysis. "
   ]
  },
  {
   "cell_type": "code",
   "execution_count": 1,
   "metadata": {
    "collapsed": true
   },
   "outputs": [],
   "source": [
    "#Import statements\n",
    "import pandas as pd\n",
    "import matplotlib.pyplot as plt\n",
    "plt.style.use('ggplot')"
   ]
  },
  {
   "cell_type": "code",
   "execution_count": 21,
   "metadata": {},
   "outputs": [
    {
     "data": {
      "text/html": [
       "<div>\n",
       "<style scoped>\n",
       "    .dataframe tbody tr th:only-of-type {\n",
       "        vertical-align: middle;\n",
       "    }\n",
       "\n",
       "    .dataframe tbody tr th {\n",
       "        vertical-align: top;\n",
       "    }\n",
       "\n",
       "    .dataframe thead th {\n",
       "        text-align: right;\n",
       "    }\n",
       "</style>\n",
       "<table border=\"1\" class=\"dataframe\">\n",
       "  <thead>\n",
       "    <tr style=\"text-align: right;\">\n",
       "      <th></th>\n",
       "      <th>Unnamed: 0</th>\n",
       "      <th>county</th>\n",
       "      <th>fips</th>\n",
       "      <th>state_abbrv</th>\n",
       "      <th>state</th>\n",
       "      <th>fips_state</th>\n",
       "      <th>year</th>\n",
       "      <th>population</th>\n",
       "      <th>prescription_rate</th>\n",
       "      <th>age_adjusted_mortality_range</th>\n",
       "      <th>avg_mortality_rate</th>\n",
       "      <th>change_mortality_rate</th>\n",
       "      <th>change_prescription_rate</th>\n",
       "      <th>latitude</th>\n",
       "      <th>longitude</th>\n",
       "    </tr>\n",
       "  </thead>\n",
       "  <tbody>\n",
       "    <tr>\n",
       "      <th>0</th>\n",
       "      <td>0</td>\n",
       "      <td>Adams, IN</td>\n",
       "      <td>18001</td>\n",
       "      <td>IN</td>\n",
       "      <td>Indiana</td>\n",
       "      <td>18</td>\n",
       "      <td>2006</td>\n",
       "      <td>33887</td>\n",
       "      <td>64.1</td>\n",
       "      <td>4-5.9</td>\n",
       "      <td>4.95</td>\n",
       "      <td>NaN</td>\n",
       "      <td>NaN</td>\n",
       "      <td>40.746298</td>\n",
       "      <td>-84.956258</td>\n",
       "    </tr>\n",
       "    <tr>\n",
       "      <th>1</th>\n",
       "      <td>1</td>\n",
       "      <td>Adams, IN</td>\n",
       "      <td>18001</td>\n",
       "      <td>IN</td>\n",
       "      <td>Indiana</td>\n",
       "      <td>18</td>\n",
       "      <td>2007</td>\n",
       "      <td>33962</td>\n",
       "      <td>66.3</td>\n",
       "      <td>6-7.9</td>\n",
       "      <td>6.95</td>\n",
       "      <td>2.0</td>\n",
       "      <td>2.2</td>\n",
       "      <td>40.746298</td>\n",
       "      <td>-84.956258</td>\n",
       "    </tr>\n",
       "    <tr>\n",
       "      <th>2</th>\n",
       "      <td>2</td>\n",
       "      <td>Adams, IN</td>\n",
       "      <td>18001</td>\n",
       "      <td>IN</td>\n",
       "      <td>Indiana</td>\n",
       "      <td>18</td>\n",
       "      <td>2008</td>\n",
       "      <td>34214</td>\n",
       "      <td>68.4</td>\n",
       "      <td>6-7.9</td>\n",
       "      <td>6.95</td>\n",
       "      <td>0.0</td>\n",
       "      <td>2.1</td>\n",
       "      <td>40.746298</td>\n",
       "      <td>-84.956258</td>\n",
       "    </tr>\n",
       "    <tr>\n",
       "      <th>3</th>\n",
       "      <td>3</td>\n",
       "      <td>Adams, IN</td>\n",
       "      <td>18001</td>\n",
       "      <td>IN</td>\n",
       "      <td>Indiana</td>\n",
       "      <td>18</td>\n",
       "      <td>2009</td>\n",
       "      <td>34351</td>\n",
       "      <td>68.6</td>\n",
       "      <td>6-7.9</td>\n",
       "      <td>6.95</td>\n",
       "      <td>0.0</td>\n",
       "      <td>0.2</td>\n",
       "      <td>40.746298</td>\n",
       "      <td>-84.956258</td>\n",
       "    </tr>\n",
       "    <tr>\n",
       "      <th>4</th>\n",
       "      <td>4</td>\n",
       "      <td>Adams, IN</td>\n",
       "      <td>18001</td>\n",
       "      <td>IN</td>\n",
       "      <td>Indiana</td>\n",
       "      <td>18</td>\n",
       "      <td>2010</td>\n",
       "      <td>34455</td>\n",
       "      <td>65.7</td>\n",
       "      <td>8-9.9</td>\n",
       "      <td>8.95</td>\n",
       "      <td>2.0</td>\n",
       "      <td>-2.9</td>\n",
       "      <td>40.746298</td>\n",
       "      <td>-84.956258</td>\n",
       "    </tr>\n",
       "  </tbody>\n",
       "</table>\n",
       "</div>"
      ],
      "text/plain": [
       "   Unnamed: 0     county   fips state_abbrv    state fips_state  year  \\\n",
       "0           0  Adams, IN  18001          IN  Indiana         18  2006   \n",
       "1           1  Adams, IN  18001          IN  Indiana         18  2007   \n",
       "2           2  Adams, IN  18001          IN  Indiana         18  2008   \n",
       "3           3  Adams, IN  18001          IN  Indiana         18  2009   \n",
       "4           4  Adams, IN  18001          IN  Indiana         18  2010   \n",
       "\n",
       "   population  prescription_rate age_adjusted_mortality_range  \\\n",
       "0       33887               64.1                        4-5.9   \n",
       "1       33962               66.3                        6-7.9   \n",
       "2       34214               68.4                        6-7.9   \n",
       "3       34351               68.6                        6-7.9   \n",
       "4       34455               65.7                        8-9.9   \n",
       "\n",
       "   avg_mortality_rate  change_mortality_rate  change_prescription_rate  \\\n",
       "0                4.95                    NaN                       NaN   \n",
       "1                6.95                    2.0                       2.2   \n",
       "2                6.95                    0.0                       2.1   \n",
       "3                6.95                    0.0                       0.2   \n",
       "4                8.95                    2.0                      -2.9   \n",
       "\n",
       "    latitude  longitude  \n",
       "0  40.746298 -84.956258  \n",
       "1  40.746298 -84.956258  \n",
       "2  40.746298 -84.956258  \n",
       "3  40.746298 -84.956258  \n",
       "4  40.746298 -84.956258  "
      ]
     },
     "execution_count": 21,
     "metadata": {},
     "output_type": "execute_result"
    }
   ],
   "source": [
    "#reading in teh data and double-checking that everything made it through the csv in properly\n",
    "fname = \"../clean_data/opioid_data_indiana_2006-2016.csv\" \n",
    "df = pd.read_csv(fname, dtype={'fips': str, 'fips_state': str} )\n",
    "df.sort_values('fips').head()"
   ]
  },
  {
   "cell_type": "code",
   "execution_count": 3,
   "metadata": {
    "collapsed": true
   },
   "outputs": [],
   "source": [
    "#Extracting our variables for easier use in the graphs\n",
    "year = df['year']\n",
    "prescription = df['prescription_rate']\n",
    "mortality = df['avg_mortality_rate']\n",
    "\n",
    "#Summing our Data for each year so that we get clean line graphs \n",
    "\n",
    "annual_prescription= df.groupby('year')['prescription_rate'].mean().values\n",
    "annual_mortality = df.groupby('year')['avg_mortality_rate'].mean()\n",
    "tiny_year = df.year.unique()"
   ]
  },
  {
   "cell_type": "code",
   "execution_count": 66,
   "metadata": {},
   "outputs": [
    {
     "data": {
      "image/png": "[encoded data removed]",
      "text/plain": [
       "<Figure size 432x288 with 1 Axes>"
      ]
     },
     "metadata": {},
     "output_type": "display_data"
    }
   ],
   "source": [
    "#Ploting Prescription Data\n",
    "plt.clf()\n",
    "plt.plot(tiny_year, annual_prescription)\n",
    "plt.xlabel('Year')\n",
    "plt.ylabel('#Opioid Prescriptions / 100 people')\n",
    "plt.title('Opioid Prescriptions in Indiana \\n2006-2016')\n",
    "plt.show()"
   ]
  },
  {
   "cell_type": "markdown",
   "metadata": {},
   "source": [
    "It looks like there was a sharp decrease in opioid prescriptions in Indiana. After talking with Dr. Kosali Simon, this was due to a reformulation of the drug around this time. Given that this was the height of the prescription time period, this will be an area where I want to identify klusters of opioid use using k-means. But for now, let's look at opioid-related deaths over the same time period:"
   ]
  },
  {
   "cell_type": "code",
   "execution_count": 67,
   "metadata": {},
   "outputs": [
    {
     "data": {
      "image/png": "[encoded data removed]",
      "text/plain": [
       "<Figure size 432x288 with 1 Axes>"
      ]
     },
     "metadata": {},
     "output_type": "display_data"
    }
   ],
   "source": [
    "#Ploting Opioid Related Deaths\n",
    "plt.clf()\n",
    "plt.plot(tiny_year, annual_mortality)\n",
    "plt.xlabel('Year')\n",
    "plt.ylabel('#Opioid Related Deaths / 100,000 people')\n",
    "plt.ylim(0, max(annual_mortality)+1)\n",
    "plt.title('Opioid Mortality Rates in Indiana \\n2006-2016')\n",
    "plt.show()"
   ]
  },
  {
   "cell_type": "markdown",
   "metadata": {},
   "source": [
    "**** INTERESTING COMPARISON BETWEEN plain linear regression and using the 5-Fold CV Score. Those with the biggest drop in prescriptions are actually correlated to increase in opioid deaths. Is this because they were the ones with the highest reliance on opioid prescriptions to begin with? Most likely this is because the counties that had the biggest decreases in number of prescriptions had the highest levels of prescriptions to begin with, so when that supply dissaptes it creates a vaccuum where people seek out (deadlier) alternatives. \n",
    "\n",
    "As you can see, there is a significant drop in the correlation between #number of prescriptions per people and the number of opioid related-deaths."
   ]
  },
  {
   "cell_type": "code",
   "execution_count": 41,
   "metadata": {},
   "outputs": [
    {
     "name": "stdout",
     "output_type": "stream",
     "text": [
      "[26.2, 72.7, 103.6, 131.5, 165.4, 237.4]\n",
      "[6.95, 10.95, 14.95, 18.95, 24.95, 30.0]\n"
     ]
    }
   ],
   "source": [
    "\n",
    "## Need to Calculate Natural Breaks for use in the colorbar -- see https://github.com/mthh/jenkspy\n",
    "#pip install jenkspy\n",
    "import jenkspy\n",
    "\n",
    "prescriptions_2012 = df[df['year']==2012]['prescription_rate'].values.tolist()\n",
    "fips_2012 = df[df['year']==2012]['fips'].values.tolist()\n",
    "\n",
    "bins_pres= jenkspy.jenks_breaks(prescriptions_2012, nb_class=5)\n",
    "\n",
    "print(bins_pres)"
   ]
  },
  {
   "cell_type": "code",
   "execution_count": 39,
   "metadata": {},
   "outputs": [
    {
     "name": "stderr",
     "output_type": "stream",
     "text": [
      "/Users/mae/anaconda3/lib/python3.6/site-packages/pandas/core/frame.py:6211: FutureWarning:\n",
      "\n",
      "Sorting because non-concatenation axis is not aligned. A future version\n",
      "of pandas will change to not sort by default.\n",
      "\n",
      "To accept the future behavior, pass 'sort=False'.\n",
      "\n",
      "To retain the current behavior and silence the warning, pass 'sort=True'.\n",
      "\n",
      "\n"
     ]
    },
    {
     "data": {
      "text/html": [
       "<iframe id=\"igraph\" scrolling=\"no\" style=\"border:none;\" seamless=\"seamless\" src=\"https://plot.ly/~middaugh/6.embed\" height=\"450px\" width=\"900px\"></iframe>"
      ],
      "text/plain": [
       "<plotly.tools.PlotlyDisplay object>"
      ]
     },
     "execution_count": 39,
     "metadata": {},
     "output_type": "execute_result"
    }
   ],
   "source": [
    "import plotly.plotly as py\n",
    "import plotly.figure_factory as ff\n",
    "\n",
    "import numpy as np\n",
    "import pandas as pd\n",
    "\n",
    "\"\"\"\n",
    "The following dependencies must be install for this code to work\n",
    "pip install plotly\n",
    "pip install geopandas==0.3.0\n",
    "pip install pyshp==1.2.10\n",
    "pip install shapely==1.6.3\n",
    "\n",
    "This code was taken from the plotly tutorial 'Python USA County Choropleth Maps' and modified to fit my dataset.\n",
    "\n",
    "View the original tutorial at: https://plot.ly/python/county-choropleth/\n",
    "\n",
    "\"\"\"\n",
    "\n",
    "fig = ff.create_choropleth(\n",
    "    fips=fips_2012, values=prescriptions_2012, scope=['IN', 'IL', 'OH'],\n",
    "    binning_endpoints=bins_pres, \n",
    "    county_outline={'color': 'rgb(255,255,255)', 'width': 0.5}, round_legend_values=True,\n",
    "    legend_title='# Prescriptions per 100 People', title='2012 Opioid Prescription Rates in Indiana'\n",
    ")\n",
    "py.iplot(fig, filename='choropleth_2012_opioid_prescriptions_indiana')\n"
   ]
  },
  {
   "cell_type": "code",
   "execution_count": 59,
   "metadata": {},
   "outputs": [
    {
     "name": "stdout",
     "output_type": "stream",
     "text": [
      "       change_prescription_rate  change_mortality_rate\n",
      "fips                                                  \n",
      "18001                      -4.1                    4.0\n",
      "18003                     -13.7                    4.0\n",
      "18005                     -57.3                    4.0\n",
      "18007                      -5.3                    8.0\n",
      "18009                     -45.6                    8.0\n",
      "[-89.80000000000001, -70.29999999999998, -38.89999999999999, -21.799999999999997, -10.700000000000003, 1.9000000000000057]\n"
     ]
    }
   ],
   "source": [
    "df.head()\n",
    "\n",
    "df_change = df[df['year']>=2012]\n",
    "\n",
    "df_change = df_change.groupby(['fips']).agg({'change_prescription_rate': np.sum, 'change_mortality_rate': np.sum}) \n",
    "print(df_change.head())\n",
    "\n",
    "fips_change = df_change.index.values.tolist()\n",
    "change_prescription_rate = df_change.change_prescription_rate.values.tolist()\n",
    "change_mortality_rate = df_change.change_mortality_rate.values.tolist()\n",
    "\n",
    "bins_pres_change = jenkspy.jenks_breaks(change_prescription_rate, nb_class=5)\n",
    "bins_mort_change = jenkspy.jenks_breaks(change_mortality_rate, nb_class=5)\n",
    "print(bins_pres_change)"
   ]
  },
  {
   "cell_type": "code",
   "execution_count": 61,
   "metadata": {},
   "outputs": [
    {
     "name": "stderr",
     "output_type": "stream",
     "text": [
      "/Users/mae/anaconda3/lib/python3.6/site-packages/pandas/core/frame.py:6211: FutureWarning:\n",
      "\n",
      "Sorting because non-concatenation axis is not aligned. A future version\n",
      "of pandas will change to not sort by default.\n",
      "\n",
      "To accept the future behavior, pass 'sort=False'.\n",
      "\n",
      "To retain the current behavior and silence the warning, pass 'sort=True'.\n",
      "\n",
      "\n"
     ]
    },
    {
     "data": {
      "text/html": [
       "<iframe id=\"igraph\" scrolling=\"no\" style=\"border:none;\" seamless=\"seamless\" src=\"https://plot.ly/~middaugh/8.embed\" height=\"450px\" width=\"900px\"></iframe>"
      ],
      "text/plain": [
       "<plotly.tools.PlotlyDisplay object>"
      ]
     },
     "execution_count": 61,
     "metadata": {},
     "output_type": "execute_result"
    }
   ],
   "source": [
    "fig = ff.create_choropleth(\n",
    "    fips=fips_change, values=change_prescription_rate, scope=['IN', 'IL', 'OH'],\n",
    "    binning_endpoints=bins_pres_change, \n",
    "    county_outline={'color': 'rgb(255,255,255)', 'width': 0.5}, round_legend_values=True,\n",
    "    legend_title='Change in # Prescriptions per 100 People', title='2012 to 2016: Change in Opioid Prescriptions'\n",
    ")\n",
    "py.iplot(fig, filename='choropleth_change_opioid_prescriptions_indiana')\n"
   ]
  },
  {
   "cell_type": "code",
   "execution_count": 62,
   "metadata": {},
   "outputs": [
    {
     "name": "stderr",
     "output_type": "stream",
     "text": [
      "/Users/mae/anaconda3/lib/python3.6/site-packages/pandas/core/frame.py:6211: FutureWarning:\n",
      "\n",
      "Sorting because non-concatenation axis is not aligned. A future version\n",
      "of pandas will change to not sort by default.\n",
      "\n",
      "To accept the future behavior, pass 'sort=False'.\n",
      "\n",
      "To retain the current behavior and silence the warning, pass 'sort=True'.\n",
      "\n",
      "\n"
     ]
    },
    {
     "data": {
      "text/html": [
       "<iframe id=\"igraph\" scrolling=\"no\" style=\"border:none;\" seamless=\"seamless\" src=\"https://plot.ly/~middaugh/8.embed\" height=\"450px\" width=\"900px\"></iframe>"
      ],
      "text/plain": [
       "<plotly.tools.PlotlyDisplay object>"
      ]
     },
     "execution_count": 62,
     "metadata": {},
     "output_type": "execute_result"
    }
   ],
   "source": [
    "fig = ff.create_choropleth(\n",
    "    fips=fips_change, values=change_mortality_rate, scope=['IN', 'IL', 'OH'],\n",
    "    binning_endpoints=bins_mort_change, \n",
    "    county_outline={'color': 'rgb(255,255,255)', 'width': 0.5}, round_legend_values=True,\n",
    "    legend_title='Change in Opioid Related Deaths per 100,000 People', title='2012 to 2016: Change in Opoid Mortality Rates'\n",
    ")\n",
    "py.iplot(fig, filename='choropleth_change_opioid_prescriptions_indiana')\n"
   ]
  },
  {
   "cell_type": "markdown",
   "metadata": {},
   "source": [
    "From the above choropleth maps, it appears that areas with the steepest decrease in prescription rates actually have the largest increase in opioid related mortality rates. "
   ]
  },
  {
   "cell_type": "markdown",
   "metadata": {},
   "source": [
    "## Regression Analysis\n",
    "\n",
    "Given the mountain-like shape of the prescription rates at 2012 regression analysis across the entire dataset does not seem like it would reveal much; the rise and might hide correlation from before and after the reformulation / guidelines in 2012. As such, I performed two regressions, one from 2006 to 2012, and one from 2012 to 2016. "
   ]
  },
  {
   "cell_type": "code",
   "execution_count": 68,
   "metadata": {
    "collapsed": true
   },
   "outputs": [],
   "source": [
    "# Import LinearRegression\n",
    "from sklearn.linear_model import LinearRegression\n",
    "from sklearn.model_selection import cross_val_score\n",
    "import numpy as np \n",
    "\n",
    "def five_fold_regression_analysis(X, y): \n",
    "    \"\"\"\n",
    "    THIS FUNCTION IS ESSENTIALLY COPIED DIRECTLY FROM THE DATACAMP TUTORIAL\n",
    "    I put it together into one function for reuse, but the code is not mine. \n",
    "    \"\"\"\n",
    "\n",
    "    # Create a linear regression object: reg\n",
    "    reg = LinearRegression()\n",
    "\n",
    "    # Compute 5-fold cross-validation scores: cv_scores\n",
    "    cv_scores = cross_val_score(reg, X, y, cv=5)\n",
    "\n",
    "    # Print the 5-fold cross-validation scores\n",
    "    print(cv_scores)\n",
    "\n",
    "    # Print the average 5-fold cross-validation score\n",
    "    print(\"Average 5-Fold CV Score: {}\".format(np.mean(cv_scores)))\n",
    "\n"
   ]
  },
  {
   "cell_type": "code",
   "execution_count": 8,
   "metadata": {},
   "outputs": [
    {
     "name": "stdout",
     "output_type": "stream",
     "text": [
      "Pre 2012:\n",
      "[-0.01699805  0.1991368   0.25072148  0.47599374  0.05145635]\n",
      "Average 5-Fold CV Score: 0.19206206217475358\n",
      "Post 2012: \n",
      "[-0.06966678  0.06733981 -0.06187388  0.08349046 -0.07546054]\n",
      "Average 5-Fold CV Score: -0.011234185295052046\n"
     ]
    }
   ],
   "source": [
    "#Splitting our data into pre/post reforumlation\n",
    "pre_2012 = df[df['year'] <=2012]\n",
    "post_2012 = df[df['year'] >=2012]\n",
    "\n",
    "pre_2012_mortality = pre_2012['avg_mortality_rate'].values.reshape(-1,1)\n",
    "pre_2012_prescription = pre_2012['prescription_rate'].values.reshape(-1,1)\n",
    "\n",
    "post_2012_mortality = post_2012['avg_mortality_rate'].values.reshape(-1,1)\n",
    "post_2012_prescription = post_2012['prescription_rate'].values.reshape(-1,1)\n",
    "\n",
    "#We will treat prescription as our independent variable and opioid related mortality rates as our dependent variable\n",
    "print('Pre 2012:')\n",
    "five_fold_regression_analysis(pre_2012_prescription, pre_2012_mortality)\n",
    "\n",
    "print('Post 2012: ')\n",
    "five_fold_regression_analysis(post_2012_prescription, post_2012_mortality)"
   ]
  }
 ],
 "metadata": {
  "kernelspec": {
   "display_name": "Python 3",
   "language": "python",
   "name": "python3"
  },
  "language_info": {
   "codemirror_mode": {
    "name": "ipython",
    "version": 3
   },
   "file_extension": ".py",
   "mimetype": "text/x-python",
   "name": "python",
   "nbconvert_exporter": "python",
   "pygments_lexer": "ipython3",
   "version": "3.6.3"
  }
 },
 "nbformat": 4,
 "nbformat_minor": 2
}
