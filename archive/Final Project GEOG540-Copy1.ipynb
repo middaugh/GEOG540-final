{
 "cells": [
  {
   "cell_type": "markdown",
   "metadata": {},
   "source": [
    "# Analyzing the Opioid Epidemic: The Impact of Opioid Prescription Reformulation on Mortality Rates Indiana\n",
    "\n",
    "Esmé Middaugh\n",
    "\n",
    "GEOG 540 \n",
    "\n",
    "Final Project\n",
    "\n",
    "2019APRIL 09"
   ]
  },
  {
   "cell_type": "markdown",
   "metadata": {},
   "source": [
    "## Introduction"
   ]
  },
  {
   "cell_type": "markdown",
   "metadata": {},
   "source": [
    "Reports about the impact of prescription opioid epidemic on the US are nearly ubiquitous in today's news. A growing problem since the late 1990s, the Department of Health and Human Servcies was forced to declare the issue a public health emergency (https://www.hhs.gov/opioids/about-the-epidemic/index.html). Understanding and addressing the issue is a complex and daunting task, requiring analysis from multiple perspectives to gain a full picture of the many contributing factors. Many universities have been quick to try and fill this need for multi-faceted analysis;  Indiana University's 'Addictions Grand Challenge'(AGC) is one such program (https://news.iu.edu/stories/2018/11/iu/releases/08-addictions-grand-challenge-phase-two.html).  I am currently serving on project funded by the AGC, \"Opioid Addictions and the Labor Market: Hiring and Training During an Epidemic,\"led by Dr. Kosali Simon (IU School of Public and Environmental Affairs) and Dr. Katy Börner (IU School of Informatics, Computing and Engineering). This project \"aims to explain both the relationship between opioid prescriptions and mortality, and between opioid use and labor force participation\" (Opioid Addictions and the Labor Market: Hiring and Training During an Epidemic Proposal). As my work on the project up to this point has been mostly focused on the relationship between opioid prescriptions and mortality, I decided to focus my paper and analysis on the same question. \n",
    "\n",
    "My aims for this project are: \n",
    "<br>1. Cleaning, tidying, and merging my data. I completed some preliminary cleaning earlier in the semester, but there were still a lot of issues with the data, as well as with my code. I wanted to rewrite my code to make it more easily used by others and to end up with a cleaner dataset.\n",
    "<br>2. Rudimentary exploratory data analysis for Indiana. This includes line graphs and choropleth maps created using Plotly, a data visualizaion library available for Python (built on Dash). \n",
    "<br>3. Regression analysis of the relationship between opioid prescriptions and drug mortality. Dr. Simon has mentioned that the impact of the 2012 reforumlation of prescription opioids (https://www.fda.gov/drugs/drugsafety/informationbydrugclass/ucm338566.htm) \n",
    "\n",
    "\n"
   ]
  },
  {
   "cell_type": "markdown",
   "metadata": {},
   "source": [
    "## Methods"
   ]
  },
  {
   "attachments": {},
   "cell_type": "markdown",
   "metadata": {},
   "source": [
    "\n",
    "__Project Design__\n",
    "\n",
    "To meet the aims outlined above, I chose to focus my energies on the 'cleaning, tidying, and merging' portion of work. There was a lot to do here, so most of the functions & libraries used fall into this area, with a smaller portion in the 'Exploratory Data Analysis' and 'Regression Analysis' sections. My organization structure was code, raw_data, and clean_data into separate sections to keep things tidy. \n",
    "\n",
    "\n",
    "\n",
    "__Methods and Functions Used__\n",
    "\n",
    "\n",
    "_Cleaning & Merging_\n",
    "\n",
    "<br>The following functions are to combine, clean and calculate some additional columns for the dataset. While the calculated columns (annual changes for prescription and mortality data) aren't used in this paper, they are being used on the AGC project, so I included them here. \n",
    "\n",
    "Libraries:\n",
    "\n",
    "    - import os, pandas, statistics\n",
    "\n",
    "Exploring /checking data:\n",
    "\n",
    "    - pd.DataFrame.head()\n",
    "    - pd.DataFrame.info() - \n",
    "    \n",
    "Creating new variables / cleaning individual variables:\n",
    "\n",
    "    - pd.DataFrame.apply()\n",
    "    - pd.DataFrame.applymap()\n",
    "    - pd.DataFrame.map()\n",
    "    - pd.DataFrame.get_loc()\n",
    "    - pd.DataFrame.iloc()\n",
    "    - pd.Series.str.cat - created one filed based off FIPS codes\n",
    "    - lambda functions\n",
    "    - statistics.mean()\n",
    "    \n",
    "Handling Whole Dataset:\n",
    "\n",
    "    - pd.DataFrame.merge()\n",
    "    - pd.DataFrame.drop()\n",
    "    - pd.DataFrame.dropna() - fixing missing data \n",
    "    - pd.groupby().mean() - calculating summary statistics for graphing\n",
    "    - pd.DataFrame.to_csv()\n",
    "\n",
    "_Exploratory Data Analysis_\n",
    "\n",
    "Line Graphs:\n",
    "\n",
    "    - import matplotlib.pyplot as plt \n",
    "    - plt.plot(), plt.ylim(), plt.xlabel(), plt.ylabel(), plt.title(), plt.show(), plt.clf()\n",
    "Choropleth Maps: \n",
    "\n",
    "    - import plotly.plotly as py\n",
    "    - import plotly.figure_factory as ff\n",
    "    - ff.create_choropleth()\n",
    "\n",
    "_Regression Analysis_\n",
    "\n",
    "    - from sklearn.linear_model import LinearRegression\n",
    "    - from sklearn.model_selection import cross_val_score\n",
    "    - import numpy as np \n",
    "    - np.reshape()\n",
    "\n",
    "\n",
    "\n",
    "__Number of Methods, Functions, and Libraries Used__\n",
    "\n",
    "\n",
    "In addition to the ~ 25 imported methods and functions, I also created an additional four functions for reuse within my code  and later on in the AGC2 project. Please see the results section for a more in depth explanation of how they function.\n",
    "\n",
    "    fix_fips()\n",
    "    clean_mortality_data()\n",
    "    find_average_mort()\n",
    "    regression_analysis()\n",
    "\n",
    "\n",
    "\n",
    "__Data__\n",
    "<br>The principal data used for this project comes from the CDC's Wonder Tool (https://wonder.cdc.gov/). It was collected by past research assistants for Dr. Simon, and spans the years from 2006-2016. I'm confident that this is an appropriate dataset as it is mentioned in the proposal for the grant and comes from a reputable source. The dataset covers the entire united states. For the cleaning and merging of the data I used the entire dataset, which I then narrowed down to Indiana for the exploratory data analysis and regression analysis. \n",
    "\n",
    "For the Indiana dataset I also utilized data from the United States Board on Geographic Names (https://geonames.usgs.gov/domestic/download_data.htm) to get longitude and latitude data from FIPS. Ultimately I did not use this in my analysis (I was originally thinking of doing k-means clustering with it), but kept it for possible future use. \n",
    "\n",
    "\n",
    "_US_\n",
    "\n",
    "    Data columns (total 12 columns):\n",
    "    county                          30801 non-null object\n",
    "    fips                            30801 non-null object\n",
    "    state_abbrv                     30801 non-null object\n",
    "    state                           30801 non-null object\n",
    "    fips_state                      30801 non-null object\n",
    "    year                            30801 non-null int64\n",
    "    population                      30801 non-null int64\n",
    "    prescription_rate               30801 non-null float64\n",
    "    age_adjusted_mortality_range    30801 non-null object\n",
    "    avg_mortality_rate              30801 non-null float64\n",
    "    change_mortality_rate           27825 non-null object\n",
    "    change_prescription_rate        27825 non-null object\n",
    "    dtypes: float64(2), int64(2), object(8)\n",
    "    memory usage: 4.3+ MB\n",
    "\n",
    "\n",
    "_Indiana_\n",
    "    \n",
    "    Data columns (total 14 columns):\n",
    "    county                          994 non-null object\n",
    "    fips                            994 non-null object\n",
    "    state_abbrv                     994 non-null object\n",
    "    state                           994 non-null object\n",
    "    fips_state                      994 non-null object\n",
    "    year                            994 non-null int64\n",
    "    population                      994 non-null int64\n",
    "    prescription_rate               994 non-null float64\n",
    "    age_adjusted_mortality_range    994 non-null object\n",
    "    avg_mortality_rate              994 non-null float64\n",
    "    change_mortality_rate           903 non-null object\n",
    "    change_prescription_rate        903 non-null object\n",
    "    latitude                        994 non-null float64\n",
    "    longitude                       994 non-null float64\n",
    "    dtypes: float64(4), int64(2), object(8)\n",
    "    memory usage: 116.5+ KB"
   ]
  },
  {
   "cell_type": "markdown",
   "metadata": {},
   "source": [
    "## Results "
   ]
  },
  {
   "cell_type": "code",
   "execution_count": null,
   "metadata": {
    "collapsed": true
   },
   "outputs": [],
   "source": []
  },
  {
   "cell_type": "markdown",
   "metadata": {},
   "source": [
    "## Summary and Discussion"
   ]
  },
  {
   "cell_type": "code",
   "execution_count": null,
   "metadata": {
    "collapsed": true
   },
   "outputs": [],
   "source": []
  },
  {
   "cell_type": "markdown",
   "metadata": {},
   "source": [
    "## References\n",
    "\n",
    "https://www.hhs.gov/opioids/about-the-epidemic/index.html\n",
    "https://www.fda.gov/drugs/drugsafety/informationbydrugclass/ucm338566.htm"
   ]
  }
 ],
 "metadata": {
  "kernelspec": {
   "display_name": "Python 3",
   "language": "python",
   "name": "python3"
  },
  "language_info": {
   "codemirror_mode": {
    "name": "ipython",
    "version": 3
   },
   "file_extension": ".py",
   "mimetype": "text/x-python",
   "name": "python",
   "nbconvert_exporter": "python",
   "pygments_lexer": "ipython3",
   "version": "3.6.3"
  }
 },
 "nbformat": 4,
 "nbformat_minor": 2
}
